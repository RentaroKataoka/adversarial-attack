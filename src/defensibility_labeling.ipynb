{
 "cells": [
  {
   "cell_type": "code",
   "execution_count": 1,
   "metadata": {},
   "outputs": [],
   "source": [
    "import os\n",
    "import shutil\n",
    "import random"
   ]
  },
  {
   "cell_type": "code",
   "execution_count": 2,
   "metadata": {},
   "outputs": [],
   "source": [
    "random.seed(42)"
   ]
  },
  {
   "cell_type": "code",
   "execution_count": 3,
   "metadata": {},
   "outputs": [],
   "source": [
    "for i in range(26):\n",
    "    count = 0\n",
    "    os.makedirs(\"../data/GAN_strong/\" + chr(i + 65), exist_ok=True)\n",
    "    os.makedirs(\"../data/GAN_weak/\" + chr(i + 65), exist_ok=True)\n",
    "\n",
    "    d_name = \"../attack_result/resistance/\" + chr(i + 65)\n",
    "    for d in os.listdir(d_name):\n",
    "        if count >= 600:\n",
    "            for f in os.listdir(d_name + \"/\" + d):\n",
    "                shutil.copy(\"../attack_result/org/\" + chr(i + 65) + \"/\" + f, \"../data/GAN_strong/\" + chr(i + 65) + \"/\" + f)\n",
    "        else:\n",
    "            for f in os.listdir(d_name + \"/\" + d):\n",
    "                shutil.copy(\"../attack_result/org/\" + chr(i + 65) + \"/\" + f, \"../data/GAN_weak/\" + chr(i + 65) + \"/\" + f)\n",
    "                count += 1\n",
    "    break"
   ]
  },
  {
   "cell_type": "code",
   "execution_count": 4,
   "metadata": {},
   "outputs": [],
   "source": [
    "for i in range(26):\n",
    "    count = 0\n",
    "    os.makedirs(\"../data/GAN_train_weak/\" + chr(i + 65), exist_ok=True)\n",
    "    os.makedirs(\"../data/GAN_test_weak/\" + chr(i + 65), exist_ok=True)\n",
    "\n",
    "    f_list = os.listdir(\"../data/GAN_weak/\" + chr(i + 65))\n",
    "    random.shuffle(f_list)\n",
    "    for f in f_list:\n",
    "        if count < 100:\n",
    "            shutil.copy(\"../data/GAN_weak/\" + chr(i + 65) + \"/\" + f, \"../data/GAN_test_weak/\" + chr(i + 65) + \"/\" + f)\n",
    "        else:\n",
    "            shutil.copy(\"../data/GAN_weak/\" + chr(i + 65) + \"/\" + f, \"../data/GAN_train_weak/\" + chr(i + 65) + \"/\" + f)\n",
    "        count += 1\n",
    "    break"
   ]
  }
 ],
 "metadata": {
  "kernelspec": {
   "display_name": "Python 3",
   "language": "python",
   "name": "python3"
  },
  "language_info": {
   "codemirror_mode": {
    "name": "ipython",
    "version": 3
   },
   "file_extension": ".py",
   "mimetype": "text/x-python",
   "name": "python",
   "nbconvert_exporter": "python",
   "pygments_lexer": "ipython3",
   "version": "3.9.5"
  },
  "orig_nbformat": 4
 },
 "nbformat": 4,
 "nbformat_minor": 2
}
