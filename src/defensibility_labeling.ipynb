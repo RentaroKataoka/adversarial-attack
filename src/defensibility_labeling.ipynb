{
 "cells": [
  {
   "cell_type": "code",
   "execution_count": 1,
   "metadata": {},
   "outputs": [],
   "source": [
    "import os\n",
    "import shutil\n",
    "import random\n",
    "import numpy as np"
   ]
  },
  {
   "cell_type": "code",
   "execution_count": 2,
   "metadata": {},
   "outputs": [],
   "source": [
    "random.seed(42)"
   ]
  },
  {
   "cell_type": "code",
   "execution_count": 3,
   "metadata": {},
   "outputs": [],
   "source": [
    "for i in range(26):\n",
    "    count_list =np.zeros(26)\n",
    "    os.makedirs(\"../data/GAN_strongest_400/\" + chr(i + 65), exist_ok=True)\n",
    "    os.makedirs(\"../data/GAN_weakest_400/\" + chr(i + 65), exist_ok=True)\n",
    "\n",
    "    d_name = \"../attack_result/resistance/\" + chr(i + 65)\n",
    "    d_list = sorted(list(map(int, (os.listdir(d_name)))))\n",
    "    d_list = list(map(str, d_list))\n",
    "    d_list_reverse = reversed(d_list)\n",
    "\n",
    "    for d in d_list:\n",
    "        for f in os.listdir(d_name + \"/\" + d):\n",
    "            shutil.copy(\"../attack_result/org/\" + chr(i + 65) + \"/\" + f, \"../data/GAN_weakest_400/\" + chr(i + 65) + \"/\" + f)\n",
    "            if sum(os.path.isfile(os.path.join(\"../data/GAN_weakest_400/\" + chr(i + 65), name)) for name in os.listdir(\"../data/GAN_weakest_400/\" + chr(i + 65))) == 400:\n",
    "                break\n",
    "        else:\n",
    "            continue\n",
    "        break\n",
    "\n",
    "    for d in d_list_reverse:\n",
    "        for f in os.listdir(d_name + \"/\" + d):\n",
    "            shutil.copy(\"../attack_result/org/\" + chr(i + 65) + \"/\" + f, \"../data/GAN_strongest_400/\" + chr(i + 65) + \"/\" + f)\n",
    "            if sum(os.path.isfile(os.path.join(\"../data/GAN_strongest_400/\" + chr(i + 65), name)) for name in os.listdir(\"../data/GAN_strongest_400/\" + chr(i + 65))) == 400:\n",
    "                break\n",
    "        else:\n",
    "            continue\n",
    "        break\n",
    "    break"
   ]
  },
  {
   "cell_type": "code",
   "execution_count": null,
   "metadata": {},
   "outputs": [],
   "source": [
    "for i in range(26):\n",
    "    count = 0\n",
    "    os.makedirs(\"../data/GAN_train_weak/\" + chr(i + 65), exist_ok=True)\n",
    "    os.makedirs(\"../data/GAN_test_weak/\" + chr(i + 65), exist_ok=True)\n",
    "\n",
    "    f_list = os.listdir(\"../data/GAN_weak/\" + chr(i + 65))\n",
    "    random.shuffle(f_list)\n",
    "    for f in f_list:\n",
    "        if count < count_list[i]:\n",
    "            shutil.copy(\"../data/GAN_weak/\" + chr(i + 65) + \"/\" + f, \"../data/GAN_train_weak/\" + chr(i + 65) + \"/\" + f)\n",
    "        else:\n",
    "            shutil.copy(\"../data/GAN_weak/\" + chr(i + 65) + \"/\" + f, \"../data/GAN_test_weak/\" + chr(i + 65) + \"/\" + f)\n",
    "        count += 1\n",
    "    break"
   ]
  }
 ],
 "metadata": {
  "kernelspec": {
   "display_name": "Python 3",
   "language": "python",
   "name": "python3"
  },
  "language_info": {
   "codemirror_mode": {
    "name": "ipython",
    "version": 3
   },
   "file_extension": ".py",
   "mimetype": "text/x-python",
   "name": "python",
   "nbconvert_exporter": "python",
   "pygments_lexer": "ipython3",
   "version": "3.9.5"
  },
  "orig_nbformat": 4
 },
 "nbformat": 4,
 "nbformat_minor": 2
}
