{
 "cells": [
  {
   "cell_type": "code",
   "execution_count": 1,
   "metadata": {},
   "outputs": [],
   "source": [
    "import os\n",
    "import shutil\n",
    "import random"
   ]
  },
  {
   "cell_type": "code",
   "execution_count": 2,
   "metadata": {},
   "outputs": [],
   "source": [
    "random.seed(42)"
   ]
  },
  {
   "cell_type": "code",
   "execution_count": 3,
   "metadata": {},
   "outputs": [],
   "source": [
    "# 重複なしランダム発生\n",
    "def rand_ints_nodup(a, b, k):\n",
    "    ns = []\n",
    "    while len(ns) < k:\n",
    "        n = random.randint(a, b)\n",
    "        if not n in ns:\n",
    "            ns.append(n)\n",
    "    return ns"
   ]
  },
  {
   "cell_type": "code",
   "execution_count": 4,
   "metadata": {},
   "outputs": [],
   "source": [
    "# for i in range(26):\n",
    "#     os.makedirs(\"../data/GoogleFonts/train_reg/\" + chr(i + 65), exist_ok=True)\n",
    "#     os.makedirs(\"../data/GoogleFonts/val_reg/\" + chr(i + 65), exist_ok=True)\n",
    "#     os.makedirs(\"../data/GoogleFonts/test_reg/\" + chr(i + 65), exist_ok=True)\n",
    "\n",
    "#     dir = \"../attack_result2/org/\" + chr(i + 65)\n",
    "#     count = sum(os.path.isfile(os.path.join(dir, name)) for name in os.listdir(dir)) - 3\n",
    "#     data = rand_ints_nodup(1, count, count)\n",
    "\n",
    "#     for id, d in enumerate(data):\n",
    "#         id += 1\n",
    "#         if id <= 800:\n",
    "#             k = sum(os.path.isfile(os.path.join(\"../attack_result2/progress/\" + chr(i + 65) + \"/{}\".format(d), name)) for name in os.listdir(\"../attack_result2/progress/\" + chr(i + 65) + \"/{}\".format(d)))\n",
    "#             os.makedirs(\"../data/GoogleFonts/train_reg/\" + chr(i + 65) + \"/{}\".format(k), exist_ok=True)\n",
    "#             shutil.copy(\"../attack_result2/org/\" + chr(i + 65) +\"/{}.png\".format(d), \"../data/GoogleFonts/train_reg/\" + chr(i + 65) + \"/{}/{}.png\".format(k, d))\n",
    "#         elif id <= 1000:\n",
    "#             k = sum(os.path.isfile(os.path.join(\"../attack_result2/progress/\" + chr(i + 65) + \"/{}\".format(d), name)) for name in os.listdir(\"../attack_result2/progress/\" + chr(i + 65) + \"/{}\".format(d)))\n",
    "#             os.makedirs(\"../data/GoogleFonts/test_reg/\" + chr(i + 65) + \"/{}\".format(k), exist_ok=True)\n",
    "#             shutil.copy(\"../attack_result2/org/\" + chr(i + 65) +\"/{}.png\".format(d), \"../data/GoogleFonts/test_reg/\" + chr(i + 65) + \"/{}/{}.png\".format(k, d))\n",
    "#         else:\n",
    "#             k = sum(os.path.isfile(os.path.join(\"../attack_result2/progress/\" + chr(i + 65) + \"/{}\".format(d), name)) for name in os.listdir(\"../attack_result2/progress/\" + chr(i + 65) + \"/{}\".format(d)))\n",
    "#             os.makedirs(\"../data/GoogleFonts/val_reg/\" + chr(i + 65) + \"/{}\".format(k), exist_ok=True)\n",
    "#             shutil.copy(\"../attack_result2/org/\" + chr(i + 65) +\"/{}.png\".format(d), \"../data/GoogleFonts/val_reg/\" + chr(i + 65) + \"/{}/{}.png\".format(k, d))"
   ]
  },
  {
   "cell_type": "code",
   "execution_count": 5,
   "metadata": {},
   "outputs": [],
   "source": [
    "for i in range(26):\n",
    "    os.makedirs(\"../data/GoogleFonts/all2/\" + chr(i + 65))"
   ]
  },
  {
   "cell_type": "code",
   "execution_count": 6,
   "metadata": {},
   "outputs": [],
   "source": [
    "file_count = [0] * 26\n",
    "for i in range(26):\n",
    "    for j in range(1200):\n",
    "        if os.path.isfile(\"../data/GoogleFonts/train2/\" + chr(i + 65) + \"/{}.png\".format(j)):\n",
    "            file_count[i] += 1\n",
    "            shutil.copy(\"../data/GoogleFonts/train2/\" + chr(i + 65) + \"/{}.png\".format(j), \"../data/GoogleFonts/all2/\" + chr(i + 65) + \"/{}.png\".format(file_count[i]))"
   ]
  },
  {
   "cell_type": "code",
   "execution_count": 7,
   "metadata": {},
   "outputs": [],
   "source": [
    "for i in range(26):\n",
    "    for j in range(200):\n",
    "        if os.path.isfile(\"../data/GoogleFonts/val2/\" + chr(i + 65) + \"/{}.png\".format(j)):\n",
    "            file_count[i] += 1\n",
    "            shutil.copy(\"../data/GoogleFonts/val2/\" + chr(i + 65) + \"/{}.png\".format(j), \"../data/GoogleFonts/all2/\" + chr(i + 65) + \"/{}.png\".format(file_count[i]))"
   ]
  },
  {
   "cell_type": "code",
   "execution_count": 8,
   "metadata": {},
   "outputs": [],
   "source": [
    "for i in range(26):\n",
    "    for j in range(1200):\n",
    "        if os.path.isfile(\"../data/GoogleFonts/test2/\" + chr(i + 65) + \"/{}.png\".format(j)):\n",
    "            file_count[i] += 1\n",
    "            shutil.copy(\"../data/GoogleFonts/test2/\" + chr(i + 65) + \"/{}.png\".format(j), \"../data/GoogleFonts/all2/\" + chr(i + 65) + \"/{}.png\".format(file_count[i]))"
   ]
  }
 ],
 "metadata": {
  "kernelspec": {
   "display_name": "Python 3",
   "language": "python",
   "name": "python3"
  },
  "language_info": {
   "codemirror_mode": {
    "name": "ipython",
    "version": 3
   },
   "file_extension": ".py",
   "mimetype": "text/x-python",
   "name": "python",
   "nbconvert_exporter": "python",
   "pygments_lexer": "ipython3",
   "version": "3.9.5"
  },
  "orig_nbformat": 4
 },
 "nbformat": 4,
 "nbformat_minor": 2
}
